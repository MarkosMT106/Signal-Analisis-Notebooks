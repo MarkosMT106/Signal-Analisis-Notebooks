{
 "cells": [
  {
   "cell_type": "markdown",
   "metadata": {},
   "source": [
    "# Error Cuadrático Medio Mínimo\n",
    "**Autor:** Martínez Torres Marcos Alfonso, Facultad de Ingeniería, UNAM\n",
    "\n",
    "Licensed under <a href=\"https://creativecommons.org/licenses/by-nc-nd/4.0?ref=chooser-v1\">Attribution-NonCommercial-NoDerivatives 4.0 International</a>"
   ]
  },
  {
   "cell_type": "markdown",
   "metadata": {},
   "source": [
    "## Teoría"
   ]
  },
  {
   "cell_type": "markdown",
   "metadata": {},
   "source": [
    "### Error cuadrático medio"
   ]
  },
  {
   "cell_type": "markdown",
   "metadata": {},
   "source": [
    "Anteriormente se observo que el error promedio en algunos casos no es un buen criterio para evaluar a una aproximación, ya que en el proceso se cancelan errores positivos con negativos.<br>\n",
    "<br>\n",
    "Recordemos que:<br>\n",
    "$\n",
    "\\begin{align}\n",
    "\\text{Función error} (\\epsilon) &= f(t) - f_a(t) \\tag{1} \\\\\n",
    "\\text{Función error promedio} (\\epsilon_0) &= \\frac{1}{p_n - p_1} \\int_{p_1}^{p_n} \\underbrace{(f(t) - f_a(t))}_{\\text{error}} \\, dt \\tag{2}\n",
    "\\end{align}\n",
    "$"
   ]
  },
  {
   "cell_type": "markdown",
   "metadata": {},
   "source": [
    "Un método para evitar que se cancelen errorres positivos con negativos es el del **error cuadrático medio**, que se define como:\n",
    "$$\n",
    "\\begin{align}\n",
    "\\epsilon^2 &= \\frac{1}{p_n - p_1} \\int_{p_1}^{p_n} {\\epsilon(t)^2} dt \\tag{3} \\\\\n",
    "\\epsilon^2 &= \\frac{1}{p_n - p_1} \\int_{p_1}^{p_n} {(f(t) - f_a(t))^2} dt \\tag{4}\n",
    "\\end{align}\n",
    "$$"
   ]
  },
  {
   "cell_type": "markdown",
   "metadata": {},
   "source": [
    "Al desarrollar el binomio al cuadrado de la expresión 4 y suponer una aproximacíon de *n* puntos, se sustituye la función aproximada por el polinomio correspondiente.\n",
    "$$\n",
    "\\begin{align}\n",
    "\\epsilon^2 &= \\frac{1}{p_n - p_1} \\int_{p_1}^{p_n} {(f(t))^2 - (2*(a_0+a_1t+a_2t^2+a_3t^3+...+a_{n-1}t^{n-1})*f(t))} \\notag \\\\\n",
    "&\\quad +{(a_0+a_1t+a_2t^2+a_3t^3+...+a_{n-1}t^{n-1})^2} \\, dt \\tag{5}\n",
    "\\end{align}\n",
    "$$\n",
    "$$\n",
    "\\begin{align}\n",
    "\\epsilon^2 &= \\frac{1}{p_n - p_1} \\int_{p_1}^{p_n} {[f(t)]^2} dt \\notag \\\\\n",
    "&\\quad -\\frac{2}{p_n - p_1} \\int_{p_1}^{p_n} {((a_0+a_1t+a_2t^2+a_3t^3+...+a_{n-1}t^{n-1})f(t))}dt \\notag \\\\\n",
    "&\\quad +\\frac{1}{p_n - p_1} \\int_{p_1}^{p_n}{[a_0+a_1t+a_2t^2+a_3t^3+...+a_{n-1}t^{n-1}]^2} \\, dt \\tag{6}\n",
    "\\end{align}\n",
    "$$\n",
    "\n"
   ]
  },
  {
   "cell_type": "markdown",
   "metadata": {},
   "source": [
    "### Error cuadrático medio mínimo"
   ]
  },
  {
   "cell_type": "markdown",
   "metadata": {},
   "source": [
    "Para conseguir que el **error cuadrático medio** sea **mínimo**, se imponen las siguientes condiciones:<br><br>\n",
    "$$\n",
    "\\begin{align}\n",
    "\\frac{\\partial \\epsilon^2}{\\partial a_k}&=&0&&;&&\\frac{\\partial^2 \\epsilon^2}{\\partial a_k^2}&>&0 \\tag{7}\n",
    "\\end{align}\n",
    "$$"
   ]
  },
  {
   "cell_type": "markdown",
   "metadata": {},
   "source": [
    "obtenuendo la primer derivada de 6,\n",
    "$$\n",
    "\\begin{align}\n",
    "\\frac{\\partial \\epsilon^2}{\\partial a_k} &= \\frac{\\partial}{\\partial a_k}\\left(\\frac{1}{p_n - p_1} \\int_{p_1}^{p_n} {[f(t)]^2} dt \\right. \\notag \\\\\n",
    "&\\quad -\\left. \\frac{2}{p_n - p_1} \\int_{p_1}^{p_n} {((a_0+a_1t+a_2t^2+a_3t^3+...+a_{n-1}t^{n-1})f(t))}dt \\right. \\notag \\\\\n",
    "&\\quad +\\left. \\frac{1}{p_n - p_1} \\int_{p_1}^{p_n}{[a_0+a_1t+a_2t^2+a_3t^3+...+a_{n-1}t^{n-1}]^2} \\, dt \\right) \\tag{8}\n",
    "\\end{align}\n",
    "$$"
   ]
  },
  {
   "cell_type": "markdown",
   "metadata": {},
   "source": [
    "dado que la primera integral se toma como la derivada de una constante,<br>\n",
    "$$\n",
    "\\begin{align}\n",
    "\\frac{\\partial \\epsilon^2}{\\partial a_k} &=\\left(- \\frac{2}{p_n - p_1} \\int_{p_1}^{p_n} {((a_0+a_1t+a_2t^2+a_3t^3+...+a_{n-1}t^{n-1})f(t))}dt \\right. \\notag \\\\\n",
    "&\\quad +\\left. \\frac{1}{p_n - p_1} \\int_{p_1}^{p_n}{[a_0+a_1t+a_2t^2+a_3t^3+...+a_{n-1}t^{n-1}]^2} \\, dt \\right) \\tag{9}\n",
    "\\end{align}\n",
    "$$"
   ]
  },
  {
   "cell_type": "markdown",
   "metadata": {},
   "source": [
    "por lo tanto, para $k = 0, 1, 2,...,n-1$, tenemos que:<br>\n",
    "$$\n",
    "\\begin{align}\n",
    "\\frac{\\partial \\epsilon^2}{\\partial a_0} &=- \\frac{2}{p_n - p_1} \\int_{p_1}^{p_n} {f(t)}dt + \\frac{1}{p_n - p_1} \\int_{p_1}^{p_n}{2[a_0+a_1t+a_2t^2+a_3t^3+...+a_{n-1}t^{n-1}]} \\, dt \\tag{10} \\\\\n",
    "\\frac{\\partial \\epsilon^2}{\\partial a_1} &=- \\frac{2}{p_n - p_1} \\int_{p_1}^{p_n} {tf(t)}dt + \\frac{1}{p_n - p_1} \\int_{p_1}^{p_n}{2t[a_0+a_1t+a_2t^2+a_3t^3+...+a_{n-1}t^{n-1}]} \\, dt \\tag{11} \\\\\n",
    "\\frac{\\partial \\epsilon^2}{\\partial a_2} &=- \\frac{2}{p_n - p_1} \\int_{p_1}^{p_n} {t^2f(t)}dt + \\frac{1}{p_n - p_1} \\int_{p_1}^{p_n}{2t^2[a_0+a_1t+a_2t^2+a_3t^3+...+a_{n-1}t^{n-1}]} \\, dt \\tag{12} \\\\\n",
    "\\vdots \\notag \\\\\n",
    "\\frac{\\partial \\epsilon^2}{\\partial a_{n-1}} &=- \\frac{2}{p_n - p_1} \\int_{p_1}^{p_n} {t^{n-1}f(t)}dt + \\frac{1}{p_n - p_1} \\int_{p_1}^{p_n}{2t^{n-1}[a_0+a_1t+a_2t^2+a_3t^3+...+a_{n-1}t^{n-1}]} \\, dt \\tag{13} \\\\\n",
    "\\end{align}\n",
    "$$"
   ]
  },
  {
   "cell_type": "markdown",
   "metadata": {},
   "source": [
    "despejamos las expresiones anteriores, considerando que tratamos de encontrar una función aproximada por *n* coeficientes que represente a la función original. A continuación se realiza la integración de la función aproximada:<br>\n",
    "$$\n",
    "\\begin{align}\n",
    "\\int_{p_1}^{p_n} {f(t)}dt &= \\int_{p_1}^{p_n}{[a_0+a_1t+a_2t^2+a_3t^3+...+a_{n-1}t^{n-1}]} \\, dt \\notag \\\\\n",
    "&= a_0\\left(p_n-p_1\\right)+\\frac{a_1}{2}\\left(p_n^2-p_1^2\\right)+\\frac{a_2}{3}\\left(p_n^3-p_1^3\\right)+...+\\frac{a_{n-1}}{n}\\left(p_n^n-p_1^n\\right) \\tag{14} \\\\\n",
    "\\int_{p_1}^{p_n} {tf(t)}dt &= \\int_{p_1}^{p_n}{t[a_0+a_1t+a_2t^2+a_3t^3+...+a_{n-1}t^{n-1}]} \\, dt \\notag \\\\\n",
    "&= \\frac{a_0}{2}\\left(p_n^2-p_1^2\\right)+\\frac{a_1}{3}\\left(p_n^3-p_1^3\\right)+\\frac{a_2}{4}\\left(p_n^4-p_1^4\\right)+...+\\frac{a_{n-1}}{n+1}\\left(p_n^{n+1}-p_1^{n+1}\\right) \\tag{15} \\\\\n",
    "\\int_{p_1}^{p_n} {t^2f(t)}dt &= \\int_{p_1}^{p_n}{t^2[a_0+a_1t+a_2t^2+a_3t^3+...+a_{n-1}t^{n-1}]} \\, dt \\notag \\\\\n",
    "&= \\frac{a_0}{3}\\left(p_n^3-p_1^3\\right)+\\frac{a_1}{4}\\left(p_n^4-p_1^4\\right)+\\frac{a_2}{5}\\left(p_n^5-p_1^5\\right)+...+\\frac{a_{n-1}}{n+2}\\left(p_n^{n+2}-p_1^{n+2}\\right) \\tag{16} \\\\\n",
    "&\\vdots \\notag \\\\\n",
    "\\int_{p_1}^{p_n} {t^{n-1}f(t)}dt &= \\int_{p_1}^{p_n}{t^{n-1}[a_0+a_1t+a_2t^2+a_3t^3+...+a_{n-1}t^{n-1}]} \\, dt \\notag \\\\\n",
    "&= \\frac{a_0}{n}\\left(p_n^{n}-p_1^{n}\\right)+\\frac{a_1}{n+1}\\left(p_n^{n+1}-p_1^{n+1}\\right)+\\frac{a_2}{n+2}\\left(p_n^{n+2}-p_1^{n+2}\\right)+...+\\frac{a_{n-1}}{2n}\\left(p_n^{2n}-p_1^{2n}\\right) \\tag{17} \\\\\n",
    "\\end{align}\n",
    "$$"
   ]
  },
  {
   "cell_type": "markdown",
   "metadata": {},
   "source": [
    "Finalmente obtenemos el siguiente sistema:<br>\n",
    "$$\n",
    "\\begin{equation}\n",
    "    \\begin{bmatrix}\n",
    "        \\left(p_n-p_1\\right)&\\frac{1}{2}\\left(p_n^2-p_1^2\\right)&\\frac{1}{3}\\left(p_n^3-p_1^3\\right)&...&\\frac{1}{n}\\left(p_n^n-p_1^n\\right) \\\\\n",
    "        \\frac{1}{2}\\left(p_n^2-p_1^2\\right)&\\frac{1}{3}\\left(p_n^3-p_1^3\\right)&\\frac{1}{4}\\left(p_n^4-p_1^4\\right)&...&\\frac{1}{n+1}\\left(p_n^{n+1}-p_1^{n+1}\\right) \\\\\n",
    "        \\frac{1}{3}\\left(p_n^3-p_1^3\\right)&\\frac{1}{4}\\left(p_n^4-p_1^4\\right)&\\frac{1}{5}\\left(p_n^5-p_1^5\\right)&...&\\frac{1}{n+2}\\left(p_n^{n+2}-p_1^{n+2}\\right) \\\\\n",
    "        \\vdots \\\\\n",
    "        \\frac{1}{n}\\left(p_n^{n}-p_1^{n}\\right)&\\frac{1}{n+1}\\left(p_n^{n+1}-p_1^{n+1}\\right)&\\frac{1}{n+2}\\left(p_n^{n+2}-p_1^{n+2}\\right)&...&\\frac{1}{2n}\\left(p_n^{2n}-p_1^{2n}\\right) \\\\\n",
    "    \\end{bmatrix}\n",
    "    \\begin{bmatrix}\n",
    "        a_0 \\\\\n",
    "        a_1 \\\\\n",
    "        a_2 \\\\\n",
    "        \\vdots \\\\\n",
    "        a_{n-1}\n",
    "    \\end{bmatrix}\n",
    "    =\n",
    "    \\begin{bmatrix}\n",
    "        \\int_{p_1}^{p_n} {f(t)}dt \\\\\n",
    "        \\int_{p_1}^{p_n} {tf(t)}dt \\\\\n",
    "        \\int_{p_1}^{p_n} {t^2f(t)}dt \\\\\n",
    "        \\vdots \\\\\n",
    "        \\int_{p_1}^{p_n} {t^{n-1}f(t)}dt \\\\\n",
    "    \\end{bmatrix} \\tag{18} \\\\\n",
    "\\end{equation}\n",
    "$$"
   ]
  },
  {
   "cell_type": "markdown",
   "metadata": {},
   "source": [
    "## Ejemplo"
   ]
  },
  {
   "cell_type": "markdown",
   "metadata": {},
   "source": [
    "Usando la función dada en el ejemplo 1.1 de las notas de Anguiano, aplicamos la expresion 18 que depende de la cantidad de puntos dados por el usuario para encontrar una función de aproximación tal, que el error sea mínimo.\n",
    "<br>Dada\n",
    "$$ f(t) = \\cos \\left(\\frac{\\pi}{2}\\right)t $$\n",
    "y\n",
    "$$ f_a(t) = a_0 + a_1t + a_2t^2 +...+ a_{n-1}t^{n-1} $$\n",
    "para $t\\:\\epsilon\\:(p_1,\\;p_n)$"
   ]
  },
  {
   "cell_type": "markdown",
   "metadata": {},
   "source": [
    "### Solución"
   ]
  },
  {
   "cell_type": "markdown",
   "metadata": {},
   "source": [
    "Se importan las bibliotecas de Python\n",
    "* *numpy* : Permite crear y gestionar arreglos multidimensionales, junto con una gran colección de funciones matemáticas de alto nivel que operan sobre estos arreglos. El sitio oficial es https://numpy.org/\n",
    "* *matplotlib* : Permite crear visualizaciones estáticas, animadas e interactivas en 2D y 3D. El sitio oficial es https://matplotlib.org/\n",
    "* *scipy* : Es una colección de herramientas y algoritmos matemáticos para Python. Esta librería proporciona funciones para realizar integración numérica, es decir, calcular el valor numérico de una integral definida. La función quad se utiliza específicamente para calcular la integral numérica de una función en un intervalo definido. El sitio oficial es https://scipy.org/"
   ]
  },
  {
   "cell_type": "code",
   "execution_count": 2,
   "metadata": {},
   "outputs": [],
   "source": [
    "import numpy as np\n",
    "import matplotlib.pyplot as plt\n",
    "from scipy.integrate import quad"
   ]
  },
  {
   "cell_type": "markdown",
   "metadata": {},
   "source": [
    "**NOTA**: Para convocar las funciones de una biblioteca en el código, abreviamos dicha función con el nombre que queramos.\n",
    "En este caso convocamos a *numpy* como np y la función *pyplot* de *matplotlib* como plt"
   ]
  },
  {
   "cell_type": "markdown",
   "metadata": {},
   "source": [
    "Se construye el vector *numpy*  de la función   \" *t* \" que va a estar dentro del intervalo $p_1\\leq t\\leq p_n$, pidiendo al usuario los siguientes datos:\n",
    "* El valor inferior del intervalo\n",
    "* El valor superior del intervalo"
   ]
  },
  {
   "cell_type": "code",
   "execution_count": 3,
   "metadata": {},
   "outputs": [
    {
     "name": "stdout",
     "output_type": "stream",
     "text": [
      "Vector generado correctamente.\n"
     ]
    }
   ],
   "source": [
    "# Definir la función f que depende de t\n",
    "def f(t):\n",
    "    return np.cos(np.pi/2 * t)\n",
    "\n",
    "# Vector de numpy de la variable independiente pidiendo al usuario que ingrese el vector\n",
    "p1 = float(input(\"Ingrese el valor inicial del vector: \")) #Valor inferior\n",
    "pn = float(input(\"Ingrese el valor final del vector: \")) #Valor superior\n",
    "\n",
    "# Verificar que el vector sea correcto\n",
    "if p1 >= pn:\n",
    "    print(\"Error: El límite inferior debe ser menor que el límite superior.\")\n",
    "else:\n",
    "    print(\"Vector generado correctamente.\")\n",
    "\n",
    "# Crear el vector utilizando np.linspace()\n",
    "t = np.linspace(p1, pn, 100)\n",
    "\n",
    "# Vector de numpy con la evaluación de la función que se quiere aproximar\n",
    "f_t = f(t)"
   ]
  },
  {
   "cell_type": "markdown",
   "metadata": {},
   "source": [
    "**NOTA**: La función *np.linspace* de *numpy* es una herramienta útil para generar secuencias de números espaciados uniformemente dentro de un rango especificado."
   ]
  },
  {
   "cell_type": "markdown",
   "metadata": {},
   "source": [
    "Pedimos al usuario la cantidad de puntos que se quieren usar en la aproximación y validamos que esten en el intervalo de \"*t*\""
   ]
  },
  {
   "cell_type": "code",
   "execution_count": null,
   "metadata": {},
   "outputs": [],
   "source": [
    "# Definir el orden del polinomio de aproximación\n",
    "n = int(input(\"Ingrese el orden del polinomio de aproximación: \"))"
   ]
  },
  {
   "cell_type": "markdown",
   "metadata": {},
   "source": [
    "**NOTA**: \" *np.cos* \" es la función coseno incluida en *numpy*, por que python base no la contiene, lo mismo pasa con \" *np.pi* \""
   ]
  },
  {
   "cell_type": "markdown",
   "metadata": {},
   "source": [
    "Graficamos la funcion original"
   ]
  },
  {
   "cell_type": "code",
   "execution_count": 5,
   "metadata": {},
   "outputs": [
    {
     "data": {
      "image/png": "[encoded data removed]",
      "text/plain": [
       "<Figure size 640x480 with 1 Axes>"
      ]
     },
     "metadata": {},
     "output_type": "display_data"
    }
   ],
   "source": [
    "# Se crea la figura\n",
    "fig = plt.figure()\n",
    "\n",
    "# Se grafica el vector de la función con respecto al vector de la variable independiente\n",
    "plt.plot(t, f_t)\n",
    "\n",
    "# Se edita la figura\n",
    "plt.xlabel('$t$',fontsize=12) # Se escribe la etiqueta del eje de la variable indpendiente en tamaño de letra 12\n",
    "plt.ylabel('$f(t)$',fontsize=12) # Se escribe la etiqueta del eje de la función en tamaño de letra 12\n",
    "plt.suptitle('Función original', weight='bold') # Se escribe el título de la gráfica \n",
    "plt.grid() # Se grafica la cuadrícula\n",
    "\n",
    "# Se muestra la figura\n",
    "plt.show()"
   ]
  },
  {
   "cell_type": "markdown",
   "metadata": {},
   "source": [
    "Para poder resolver el sistema de ecuaciones 18, se necesitan construir primero la matriz de coeficientes (M) y el vector de terminos independientes (V), de tal forma que al obtener lo siguiente:<br>\n",
    "$$\n",
    "\\underline{\\underline{M}} \\cdot \\underline{An} = \\underline{V}\n",
    "$$\n",
    "\n",
    "podamos despejar An."
   ]
  },
  {
   "cell_type": "markdown",
   "metadata": {},
   "source": [
    "Empezamos construyendo la matriz de coeficientes, recordemos que la matriz esta dada por:\n",
    "$$\n",
    "    M =\n",
    "    \\begin{bmatrix}\n",
    "        \\left(p_n-p_1\\right)&\\frac{1}{2}\\left(p_n^2-p_1^2\\right)&\\frac{1}{3}\\left(p_n^3-p_1^3\\right)&...&\\frac{1}{n}\\left(p_n^n-p_1^n\\right) \\\\\n",
    "        \\frac{1}{2}\\left(p_n^2-p_1^2\\right)&\\frac{1}{3}\\left(p_n^3-p_1^3\\right)&\\frac{1}{4}\\left(p_n^4-p_1^4\\right)&...&\\frac{1}{n+1}\\left(p_n^{n+1}-p_1^{n+1}\\right) \\\\\n",
    "        \\frac{1}{3}\\left(p_n^3-p_1^3\\right)&\\frac{1}{4}\\left(p_n^4-p_1^4\\right)&\\frac{1}{5}\\left(p_n^5-p_1^5\\right)&...&\\frac{1}{n+2}\\left(p_n^{n+2}-p_1^{n+2}\\right) \\\\\n",
    "        \\vdots \\\\\n",
    "        \\frac{1}{n}\\left(p_n^{n}-p_1^{n}\\right)&\\frac{1}{n+1}\\left(p_n^{n+1}-p_1^{n+1}\\right)&\\frac{1}{n+2}\\left(p_n^{n+2}-p_1^{n+2}\\right)&...&\\frac{1}{2n}\\left(p_n^{2n}-p_1^{2n}\\right) \\\\\n",
    "    \\end{bmatrix}\n",
    "$$\n",
    "<br>\n",
    "Para ello necesitaremos crearla a través de un ciclo for que nos permita recorrer cada elemento de la matriz ( aprovechando que es una matriz cuadrada [n x n]) y que la construya siguendo la siguiente formula:<br><br>\n",
    "\n",
    "$$\n",
    "M = \\frac{1}{pi+j} * (pn^{pi+j} -  p1^{pi+j})\n",
    "$$\n",
    "donde: <br>\n",
    "* pi = i+1: es una variable asociada al numero de fila en el que esta posicionado el ciclo.\n",
    "* p1: limite inferior de la variable t dado por el usuario\n",
    "* pn: limite superior de t dado por el usuario\n",
    "* j: variable que corresponde a la columna en la que esta posicionado el ciclo.\n",
    "\n"
   ]
  },
  {
   "cell_type": "code",
   "execution_count": 6,
   "metadata": {},
   "outputs": [
    {
     "data": {
      "text/plain": [
       "[[2.0, 0.0, 0.6666666666666666],\n",
       " [0.0, 0.6666666666666666, 0.0],\n",
       " [0.6666666666666666, 0.0, 0.4]]"
      ]
     },
     "execution_count": 6,
     "metadata": {},
     "output_type": "execute_result"
    }
   ],
   "source": [
    "# Inicializa la matriz con ceros\n",
    "M = [[0 for _ in range(n)] for _ in range(n)]\n",
    "\n",
    "#Crear la matriz de coeficientes\n",
    "for i in range (n):\n",
    "    pi  = i + 1 #Variable asociada a la potencia\n",
    "    for j in range (n):\n",
    "        M[i][j] = 1/(pi + j) * (pn**(pi+j) - p1**(pi+j)) #Construccion de la matriz\n",
    "M"
   ]
  },
  {
   "cell_type": "markdown",
   "metadata": {},
   "source": [
    "Recordando el vector de terminos independientes (V):<br>\n",
    "$$\n",
    "    V = \n",
    "    \\begin{bmatrix}\n",
    "        \\int_{p_1}^{p_n} {f(t)}dt \\\\\n",
    "        \\int_{p_1}^{p_n} {tf(t)}dt \\\\\n",
    "        \\int_{p_1}^{p_n} {t^2f(t)}dt \\\\\n",
    "        \\vdots \\\\\n",
    "        \\int_{p_1}^{p_n} {t^{n-1}f(t)}dt \\\\\n",
    "    \\end{bmatrix}\n",
    "$$\n",
    "<br>\n",
    "En este caso el ciclo va de [0,...,n] y concuerda la posicion que recorre el ciclo dentro del vector con la potencia que involucra *t*, por lo que todo puede quedar dentro de un mismo ciclo.<br>\n",
    "Usaremos la funcion *quad* de *scipy* para realizar la integral definida, de la suguiente forma:<br>\n",
    "\n",
    "$$\n",
    "V[\\underbrace{k}_{\\text{posición}}] = quad(\\underbrace{f}_{\\text{función}}, \\underbrace{p1}_{\\text{limite inferior}}, \\underbrace{pn}_{\\text{limite superior}}) \n",
    "$$"
   ]
  },
  {
   "cell_type": "code",
   "execution_count": 7,
   "metadata": {},
   "outputs": [
    {
     "data": {
      "text/plain": [
       "array([1.27323954, 0.        , 0.24119044])"
      ]
     },
     "execution_count": 7,
     "metadata": {},
     "output_type": "execute_result"
    }
   ],
   "source": [
    "#Inicializamos en ceros el vector de terminos independientes\n",
    "V = [0 for _ in range(n)]\n",
    "#Crear el vector de terminos independientes\n",
    "for k in range (n):\n",
    "    f_integracion = lambda t: (t**k)*f(t)\n",
    "    V[k], _ = quad(f_integracion, p1, pn)\n",
    "\n",
    "# Convertir V a un array numpy\n",
    "V = np.array(V)\n",
    "\n",
    "V"
   ]
  },
  {
   "cell_type": "markdown",
   "metadata": {},
   "source": [
    "Para resolver el sistema usaremos *np.linalg.solve* que crea un vector resultado(An) que contiene a cada coeficiente que buscamos.\n",
    "$$\n",
    "An = np.linalg.solve(\\underbrace{M}_{\\text{Matriz de coeficientes}},\\underbrace{V}_{\\text{Vector de terminos independientes}})\n",
    "$$"
   ]
  },
  {
   "cell_type": "code",
   "execution_count": 8,
   "metadata": {},
   "outputs": [
    {
     "name": "stdout",
     "output_type": "stream",
     "text": [
      "a_0 = 0.98016\n",
      "a_1 = 0.00000\n",
      "a_2 = -1.03063\n"
     ]
    }
   ],
   "source": [
    "# Resolver el sistema de ecuaciones M * An = V\n",
    "An = np.linalg.solve(M, V)\n",
    "\n",
    "for i, coef in enumerate(An):\n",
    "    print(f\"a_{i} = {coef:.5f}\")"
   ]
  },
  {
   "cell_type": "markdown",
   "metadata": {},
   "source": [
    "Comparamos la función original y la funcion aproximada"
   ]
  },
  {
   "cell_type": "code",
   "execution_count": 9,
   "metadata": {},
   "outputs": [],
   "source": [
    "fa = np.polyval(np.flipud(An),t)"
   ]
  },
  {
   "cell_type": "code",
   "execution_count": 10,
   "metadata": {},
   "outputs": [
    {
     "data": {
      "image/png": "[encoded data removed]",
      "text/plain": [
       "<Figure size 640x480 with 1 Axes>"
      ]
     },
     "metadata": {},
     "output_type": "display_data"
    }
   ],
   "source": [
    "# Se crea la figura\n",
    "fig = plt.figure()\n",
    "\n",
    "# Se grafica el vector de la función original con respecto al vector de la variable independiente\n",
    "plt.plot(t, f_t, label='$f(t)$')\n",
    "\n",
    "# Se grafica el vector de la función aproximada con respecto al vector de la variable independiente\n",
    "plt.plot(t, fa, label='$f_a(t)$')\n",
    "\n",
    "# Se edita la figura\n",
    "plt.xlabel('$t$', fontsize=12)  # Se escribe la etiqueta del eje de la variable independiente en tamaño de letra 12\n",
    "plt.suptitle('Comparación de la función original con la aproximada', weight='bold')  # Se escribe el título de la gráfica\n",
    "plt.grid()  # Se grafica la cuadrícula\n",
    "plt.legend()  # Se imprime la leyenda\n",
    "\n",
    "# Mostrar la gráfica\n",
    "plt.show()"
   ]
  },
  {
   "cell_type": "code",
   "execution_count": null,
   "metadata": {},
   "outputs": [],
   "source": []
  }
 ],
 "metadata": {
  "kernelspec": {
   "display_name": "Python 3",
   "language": "python",
   "name": "python3"
  },
  "language_info": {
   "codemirror_mode": {
    "name": "ipython",
    "version": 3
   },
   "file_extension": ".py",
   "mimetype": "text/x-python",
   "name": "python",
   "nbconvert_exporter": "python",
   "pygments_lexer": "ipython3",
   "version": "3.10.12"
  }
 },
 "nbformat": 4,
 "nbformat_minor": 2
}
